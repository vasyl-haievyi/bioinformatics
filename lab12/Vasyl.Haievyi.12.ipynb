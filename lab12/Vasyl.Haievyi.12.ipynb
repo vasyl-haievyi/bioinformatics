{
 "cells": [
  {
   "cell_type": "code",
   "execution_count": 1,
   "metadata": {},
   "outputs": [],
   "source": [
    "import pandas as pd\n",
    "import numpy as np"
   ]
  },
  {
   "cell_type": "code",
   "execution_count": 9,
   "metadata": {},
   "outputs": [
    {
     "data": {
      "text/html": [
       "<div>\n",
       "<style scoped>\n",
       "    .dataframe tbody tr th:only-of-type {\n",
       "        vertical-align: middle;\n",
       "    }\n",
       "\n",
       "    .dataframe tbody tr th {\n",
       "        vertical-align: top;\n",
       "    }\n",
       "\n",
       "    .dataframe thead th {\n",
       "        text-align: right;\n",
       "    }\n",
       "</style>\n",
       "<table border=\"1\" class=\"dataframe\">\n",
       "  <thead>\n",
       "    <tr style=\"text-align: right;\">\n",
       "      <th></th>\n",
       "      <th>AA</th>\n",
       "      <th>1</th>\n",
       "      <th>2</th>\n",
       "      <th>3</th>\n",
       "      <th>4</th>\n",
       "      <th>5</th>\n",
       "      <th>6</th>\n",
       "      <th>7</th>\n",
       "      <th>8</th>\n",
       "    </tr>\n",
       "  </thead>\n",
       "  <tbody>\n",
       "    <tr>\n",
       "      <th>0</th>\n",
       "      <td>A</td>\n",
       "      <td>67</td>\n",
       "      <td>11.50</td>\n",
       "      <td>0.00</td>\n",
       "      <td>6.00</td>\n",
       "      <td>1.8</td>\n",
       "      <td>1.6</td>\n",
       "      <td>113</td>\n",
       "      <td>0.74</td>\n",
       "    </tr>\n",
       "    <tr>\n",
       "      <th>1</th>\n",
       "      <td>R</td>\n",
       "      <td>148</td>\n",
       "      <td>14.28</td>\n",
       "      <td>52.00</td>\n",
       "      <td>10.76</td>\n",
       "      <td>-4.5</td>\n",
       "      <td>-12.3</td>\n",
       "      <td>241</td>\n",
       "      <td>0.64</td>\n",
       "    </tr>\n",
       "    <tr>\n",
       "      <th>2</th>\n",
       "      <td>N</td>\n",
       "      <td>96</td>\n",
       "      <td>12.28</td>\n",
       "      <td>3.38</td>\n",
       "      <td>5.41</td>\n",
       "      <td>-3.5</td>\n",
       "      <td>-4.8</td>\n",
       "      <td>158</td>\n",
       "      <td>0.63</td>\n",
       "    </tr>\n",
       "    <tr>\n",
       "      <th>3</th>\n",
       "      <td>D</td>\n",
       "      <td>91</td>\n",
       "      <td>11.68</td>\n",
       "      <td>49.70</td>\n",
       "      <td>2.77</td>\n",
       "      <td>-3.5</td>\n",
       "      <td>-9.2</td>\n",
       "      <td>151</td>\n",
       "      <td>0.62</td>\n",
       "    </tr>\n",
       "    <tr>\n",
       "      <th>4</th>\n",
       "      <td>C</td>\n",
       "      <td>86</td>\n",
       "      <td>13.46</td>\n",
       "      <td>1.48</td>\n",
       "      <td>5.05</td>\n",
       "      <td>2.5</td>\n",
       "      <td>2.0</td>\n",
       "      <td>140</td>\n",
       "      <td>0.91</td>\n",
       "    </tr>\n",
       "  </tbody>\n",
       "</table>\n",
       "</div>"
      ],
      "text/plain": [
       "  AA    1      2      3      4    5     6    7     8\n",
       "0  A   67  11.50   0.00   6.00  1.8   1.6  113  0.74\n",
       "1  R  148  14.28  52.00  10.76 -4.5 -12.3  241  0.64\n",
       "2  N   96  12.28   3.38   5.41 -3.5  -4.8  158  0.63\n",
       "3  D   91  11.68  49.70   2.77 -3.5  -9.2  151  0.62\n",
       "4  C   86  13.46   1.48   5.05  2.5   2.0  140  0.91"
      ]
     },
     "execution_count": 9,
     "metadata": {},
     "output_type": "execute_result"
    }
   ],
   "source": [
    "df = pd.read_csv('aaProperties.txt', sep=';', decimal=',', names=['AA', '1', '2', '3', '4', '5', '6', '7', '8'])\n",
    "df.head()"
   ]
  },
  {
   "cell_type": "code",
   "execution_count": 10,
   "metadata": {},
   "outputs": [
    {
     "data": {
      "text/html": [
       "<div>\n",
       "<style scoped>\n",
       "    .dataframe tbody tr th:only-of-type {\n",
       "        vertical-align: middle;\n",
       "    }\n",
       "\n",
       "    .dataframe tbody tr th {\n",
       "        vertical-align: top;\n",
       "    }\n",
       "\n",
       "    .dataframe thead th {\n",
       "        text-align: right;\n",
       "    }\n",
       "</style>\n",
       "<table border=\"1\" class=\"dataframe\">\n",
       "  <thead>\n",
       "    <tr style=\"text-align: right;\">\n",
       "      <th></th>\n",
       "      <th>1</th>\n",
       "      <th>2</th>\n",
       "      <th>3</th>\n",
       "      <th>4</th>\n",
       "      <th>5</th>\n",
       "      <th>6</th>\n",
       "      <th>7</th>\n",
       "      <th>8</th>\n",
       "      <th>AA</th>\n",
       "    </tr>\n",
       "  </thead>\n",
       "  <tbody>\n",
       "    <tr>\n",
       "      <th>0</th>\n",
       "      <td>-1.452892</td>\n",
       "      <td>-0.825936</td>\n",
       "      <td>-0.620332</td>\n",
       "      <td>-0.014979</td>\n",
       "      <td>0.766663</td>\n",
       "      <td>0.606993</td>\n",
       "      <td>-1.396431</td>\n",
       "      <td>0.030352</td>\n",
       "      <td>NaN</td>\n",
       "    </tr>\n",
       "    <tr>\n",
       "      <th>1</th>\n",
       "      <td>1.335834</td>\n",
       "      <td>-0.228071</td>\n",
       "      <td>1.752572</td>\n",
       "      <td>2.675518</td>\n",
       "      <td>-1.342497</td>\n",
       "      <td>-2.233817</td>\n",
       "      <td>1.468043</td>\n",
       "      <td>-0.836836</td>\n",
       "      <td>NaN</td>\n",
       "    </tr>\n",
       "    <tr>\n",
       "      <th>2</th>\n",
       "      <td>-0.454459</td>\n",
       "      <td>-0.658190</td>\n",
       "      <td>-0.466093</td>\n",
       "      <td>-0.348464</td>\n",
       "      <td>-1.007710</td>\n",
       "      <td>-0.701006</td>\n",
       "      <td>-0.389390</td>\n",
       "      <td>-0.923554</td>\n",
       "      <td>NaN</td>\n",
       "    </tr>\n",
       "    <tr>\n",
       "      <th>3</th>\n",
       "      <td>-0.626603</td>\n",
       "      <td>-0.787225</td>\n",
       "      <td>1.647617</td>\n",
       "      <td>-1.840672</td>\n",
       "      <td>-1.007710</td>\n",
       "      <td>-1.600255</td>\n",
       "      <td>-0.546040</td>\n",
       "      <td>-1.010273</td>\n",
       "      <td>NaN</td>\n",
       "    </tr>\n",
       "    <tr>\n",
       "      <th>4</th>\n",
       "      <td>-0.798746</td>\n",
       "      <td>-0.404419</td>\n",
       "      <td>-0.552795</td>\n",
       "      <td>-0.551947</td>\n",
       "      <td>1.001014</td>\n",
       "      <td>0.688743</td>\n",
       "      <td>-0.792206</td>\n",
       "      <td>1.504570</td>\n",
       "      <td>NaN</td>\n",
       "    </tr>\n",
       "  </tbody>\n",
       "</table>\n",
       "</div>"
      ],
      "text/plain": [
       "          1         2         3         4         5         6         7  \\\n",
       "0 -1.452892 -0.825936 -0.620332 -0.014979  0.766663  0.606993 -1.396431   \n",
       "1  1.335834 -0.228071  1.752572  2.675518 -1.342497 -2.233817  1.468043   \n",
       "2 -0.454459 -0.658190 -0.466093 -0.348464 -1.007710 -0.701006 -0.389390   \n",
       "3 -0.626603 -0.787225  1.647617 -1.840672 -1.007710 -1.600255 -0.546040   \n",
       "4 -0.798746 -0.404419 -0.552795 -0.551947  1.001014  0.688743 -0.792206   \n",
       "\n",
       "          8   AA  \n",
       "0  0.030352  NaN  \n",
       "1 -0.836836  NaN  \n",
       "2 -0.923554  NaN  \n",
       "3 -1.010273  NaN  \n",
       "4  1.504570  NaN  "
      ]
     },
     "execution_count": 10,
     "metadata": {},
     "output_type": "execute_result"
    }
   ],
   "source": [
    "normalized_df = (df - df.mean())/ df.std()\n",
    "normalized_df.head()"
   ]
  },
  {
   "cell_type": "code",
   "execution_count": 11,
   "metadata": {},
   "outputs": [
    {
     "data": {
      "text/html": [
       "<div>\n",
       "<style scoped>\n",
       "    .dataframe tbody tr th:only-of-type {\n",
       "        vertical-align: middle;\n",
       "    }\n",
       "\n",
       "    .dataframe tbody tr th {\n",
       "        vertical-align: top;\n",
       "    }\n",
       "\n",
       "    .dataframe thead th {\n",
       "        text-align: right;\n",
       "    }\n",
       "</style>\n",
       "<table border=\"1\" class=\"dataframe\">\n",
       "  <thead>\n",
       "    <tr style=\"text-align: right;\">\n",
       "      <th></th>\n",
       "      <th>1</th>\n",
       "      <th>2</th>\n",
       "      <th>3</th>\n",
       "      <th>4</th>\n",
       "      <th>5</th>\n",
       "      <th>6</th>\n",
       "      <th>7</th>\n",
       "      <th>8</th>\n",
       "    </tr>\n",
       "  </thead>\n",
       "  <tbody>\n",
       "    <tr>\n",
       "      <th>1</th>\n",
       "      <td>1.000000</td>\n",
       "      <td>0.727414</td>\n",
       "      <td>0.235847</td>\n",
       "      <td>0.370771</td>\n",
       "      <td>-0.080223</td>\n",
       "      <td>-0.158585</td>\n",
       "      <td>0.986948</td>\n",
       "      <td>0.182500</td>\n",
       "    </tr>\n",
       "    <tr>\n",
       "      <th>2</th>\n",
       "      <td>0.727414</td>\n",
       "      <td>1.000000</td>\n",
       "      <td>-0.202209</td>\n",
       "      <td>0.081004</td>\n",
       "      <td>0.443909</td>\n",
       "      <td>0.318525</td>\n",
       "      <td>0.635766</td>\n",
       "      <td>0.486211</td>\n",
       "    </tr>\n",
       "    <tr>\n",
       "      <th>3</th>\n",
       "      <td>0.235847</td>\n",
       "      <td>-0.202209</td>\n",
       "      <td>1.000000</td>\n",
       "      <td>0.273730</td>\n",
       "      <td>-0.668759</td>\n",
       "      <td>-0.853532</td>\n",
       "      <td>0.288327</td>\n",
       "      <td>-0.529238</td>\n",
       "    </tr>\n",
       "    <tr>\n",
       "      <th>4</th>\n",
       "      <td>0.370771</td>\n",
       "      <td>0.081004</td>\n",
       "      <td>0.273730</td>\n",
       "      <td>1.000000</td>\n",
       "      <td>-0.203387</td>\n",
       "      <td>-0.268684</td>\n",
       "      <td>0.356518</td>\n",
       "      <td>-0.175799</td>\n",
       "    </tr>\n",
       "    <tr>\n",
       "      <th>5</th>\n",
       "      <td>-0.080223</td>\n",
       "      <td>0.443909</td>\n",
       "      <td>-0.668759</td>\n",
       "      <td>-0.203387</td>\n",
       "      <td>1.000000</td>\n",
       "      <td>0.849529</td>\n",
       "      <td>-0.181301</td>\n",
       "      <td>0.840975</td>\n",
       "    </tr>\n",
       "  </tbody>\n",
       "</table>\n",
       "</div>"
      ],
      "text/plain": [
       "          1         2         3         4         5         6         7  \\\n",
       "1  1.000000  0.727414  0.235847  0.370771 -0.080223 -0.158585  0.986948   \n",
       "2  0.727414  1.000000 -0.202209  0.081004  0.443909  0.318525  0.635766   \n",
       "3  0.235847 -0.202209  1.000000  0.273730 -0.668759 -0.853532  0.288327   \n",
       "4  0.370771  0.081004  0.273730  1.000000 -0.203387 -0.268684  0.356518   \n",
       "5 -0.080223  0.443909 -0.668759 -0.203387  1.000000  0.849529 -0.181301   \n",
       "\n",
       "          8  \n",
       "1  0.182500  \n",
       "2  0.486211  \n",
       "3 -0.529238  \n",
       "4 -0.175799  \n",
       "5  0.840975  "
      ]
     },
     "execution_count": 11,
     "metadata": {},
     "output_type": "execute_result"
    }
   ],
   "source": [
    "covariance_m = normalized_df.cov()\n",
    "covariance_m.head()"
   ]
  },
  {
   "cell_type": "code",
   "execution_count": 12,
   "metadata": {},
   "outputs": [
    {
     "data": {
      "text/plain": [
       "((8,), (8, 8))"
      ]
     },
     "execution_count": 12,
     "metadata": {},
     "output_type": "execute_result"
    }
   ],
   "source": [
    "val, vec = np.linalg.eig(covariance_m)\n",
    "val.shape, vec.shape"
   ]
  },
  {
   "cell_type": "code",
   "execution_count": 58,
   "metadata": {},
   "outputs": [],
   "source": [
    "sorted_val_idx = np.argsort(val)[::-1]\n",
    "max_val = val[sorted_val_idx[:2]]\n",
    "max_vec = vec[sorted_val_idx[:2]]\n",
    "\n",
    "new_base_df = df[['1', '2', '3', '4', '5', '6', '7', '8']] @ max_vec.T\n",
    "\n",
    "variance_explained = max_val.sum() / val.sum()"
   ]
  },
  {
   "cell_type": "code",
   "execution_count": 77,
   "metadata": {},
   "outputs": [
    {
     "data": {
      "image/png": "[encoded data removed]",
      "text/plain": [
       "<Figure size 432x288 with 1 Axes>"
      ]
     },
     "metadata": {
      "needs_background": "light"
     },
     "output_type": "display_data"
    }
   ],
   "source": [
    "import matplotlib.pyplot as plt\n",
    "plt.scatter(new_base_df[0], new_base_df[1], c=range(len(new_base_df)), marker='x')\n",
    "plt.text(0,0,f'Explained Variance: {variance_explained * 100} %')\n",
    "\n",
    "for idx, aa in enumerate(df.AA):\n",
    "    plt.text(new_base_df[0][idx] + 0.3, new_base_df[1][idx] + 0.3, aa)"
   ]
  },
  {
   "cell_type": "code",
   "execution_count": null,
   "metadata": {},
   "outputs": [],
   "source": []
  },
  {
   "cell_type": "code",
   "execution_count": 50,
   "metadata": {},
   "outputs": [
    {
     "data": {
      "text/plain": [
       "array([2, 0, 1])"
      ]
     },
     "execution_count": 50,
     "metadata": {},
     "output_type": "execute_result"
    }
   ],
   "source": []
  }
 ],
 "metadata": {
  "interpreter": {
   "hash": "52b7ae575a906592887d1b28af064847276eb1a85717cce0b6863879ed179410"
  },
  "kernelspec": {
   "display_name": "Python 3.8.5 64-bit ('mldd': conda)",
   "language": "python",
   "name": "python3"
  },
  "language_info": {
   "codemirror_mode": {
    "name": "ipython",
    "version": 3
   },
   "file_extension": ".py",
   "mimetype": "text/x-python",
   "name": "python",
   "nbconvert_exporter": "python",
   "pygments_lexer": "ipython3",
   "version": "3.8.5"
  },
  "orig_nbformat": 4
 },
 "nbformat": 4,
 "nbformat_minor": 2
}
