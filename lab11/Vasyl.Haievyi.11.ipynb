{
 "cells": [
  {
   "cell_type": "code",
   "execution_count": 1,
   "metadata": {},
   "outputs": [
    {
     "data": {
      "text/html": [
       "<div>\n",
       "<style scoped>\n",
       "    .dataframe tbody tr th:only-of-type {\n",
       "        vertical-align: middle;\n",
       "    }\n",
       "\n",
       "    .dataframe tbody tr th {\n",
       "        vertical-align: top;\n",
       "    }\n",
       "\n",
       "    .dataframe thead th {\n",
       "        text-align: right;\n",
       "    }\n",
       "</style>\n",
       "<table border=\"1\" class=\"dataframe\">\n",
       "  <thead>\n",
       "    <tr style=\"text-align: right;\">\n",
       "      <th></th>\n",
       "      <th>T0</th>\n",
       "      <th>T1</th>\n",
       "      <th>T2</th>\n",
       "      <th>T3</th>\n",
       "      <th>T4</th>\n",
       "      <th>T5</th>\n",
       "      <th>T6</th>\n",
       "      <th>GENE</th>\n",
       "    </tr>\n",
       "  </thead>\n",
       "  <tbody>\n",
       "    <tr>\n",
       "      <th>0</th>\n",
       "      <td>0.73</td>\n",
       "      <td>0.87</td>\n",
       "      <td>1.09</td>\n",
       "      <td>0.19</td>\n",
       "      <td>0.1</td>\n",
       "      <td>-1.63</td>\n",
       "      <td>-1.35</td>\n",
       "      <td>YHR007C</td>\n",
       "    </tr>\n",
       "    <tr>\n",
       "      <th>1</th>\n",
       "      <td>-0.85</td>\n",
       "      <td>-0.51</td>\n",
       "      <td>-0.38</td>\n",
       "      <td>-0.51</td>\n",
       "      <td>-0.59</td>\n",
       "      <td>0.64</td>\n",
       "      <td>2.20</td>\n",
       "      <td>YAL054C</td>\n",
       "    </tr>\n",
       "    <tr>\n",
       "      <th>2</th>\n",
       "      <td>-0.43</td>\n",
       "      <td>-0.38</td>\n",
       "      <td>0.24</td>\n",
       "      <td>-0.63</td>\n",
       "      <td>-1.54</td>\n",
       "      <td>1.15</td>\n",
       "      <td>1.59</td>\n",
       "      <td>YOL109W</td>\n",
       "    </tr>\n",
       "    <tr>\n",
       "      <th>3</th>\n",
       "      <td>-0.98</td>\n",
       "      <td>-0.76</td>\n",
       "      <td>0.21</td>\n",
       "      <td>-0.83</td>\n",
       "      <td>-0.59</td>\n",
       "      <td>1.64</td>\n",
       "      <td>1.30</td>\n",
       "      <td>YAL067C</td>\n",
       "    </tr>\n",
       "    <tr>\n",
       "      <th>4</th>\n",
       "      <td>1.15</td>\n",
       "      <td>0.87</td>\n",
       "      <td>0.82</td>\n",
       "      <td>0.13</td>\n",
       "      <td>-0.21</td>\n",
       "      <td>-0.92</td>\n",
       "      <td>-1.83</td>\n",
       "      <td>YAL003W</td>\n",
       "    </tr>\n",
       "  </tbody>\n",
       "</table>\n",
       "</div>"
      ],
      "text/plain": [
       "     T0     T1     T2    T3     T4    T5    T6     GENE\n",
       "0  0.73   0.87   1.09  0.19    0.1 -1.63 -1.35  YHR007C\n",
       "1 -0.85  -0.51  -0.38 -0.51  -0.59  0.64  2.20  YAL054C\n",
       "2 -0.43  -0.38   0.24 -0.63  -1.54  1.15  1.59  YOL109W\n",
       "3 -0.98  -0.76   0.21 -0.83  -0.59  1.64  1.30  YAL067C\n",
       "4  1.15   0.87   0.82  0.13  -0.21 -0.92 -1.83  YAL003W"
      ]
     },
     "execution_count": 1,
     "metadata": {},
     "output_type": "execute_result"
    }
   ],
   "source": [
    "import pandas as pd\n",
    "\n",
    "df = pd.read_csv('yeast_expression.txt', sep='\\t')\n",
    "df.head()"
   ]
  },
  {
   "cell_type": "code",
   "execution_count": null,
   "metadata": {},
   "outputs": [],
   "source": [
    "df = df.drop(columns='GENE')"
   ]
  },
  {
   "cell_type": "code",
   "execution_count": 35,
   "metadata": {},
   "outputs": [],
   "source": [
    "df = df.replace('x', 0.0)"
   ]
  },
  {
   "cell_type": "code",
   "execution_count": 41,
   "metadata": {},
   "outputs": [],
   "source": [
    "from Bio.Cluster import kcluster\n",
    "cluster_ids = kcluster(df.values.T)[0]"
   ]
  },
  {
   "cell_type": "code",
   "execution_count": 42,
   "metadata": {},
   "outputs": [
    {
     "name": "stdout",
     "output_type": "stream",
     "text": [
      "Chwila czasowa T0 należy do klastra 1\n",
      "Chwila czasowa T1 należy do klastra 1\n",
      "Chwila czasowa T2 należy do klastra 1\n",
      "Chwila czasowa T3 należy do klastra 1\n",
      "Chwila czasowa T4 należy do klastra 1\n",
      "Chwila czasowa T5 należy do klastra 0\n",
      "Chwila czasowa T6 należy do klastra 0\n"
     ]
    }
   ],
   "source": [
    "for time, cluster in zip(df.columns, cluster_ids):\n",
    "    print(f'Chwila czasowa {time} należy do klastra {cluster}')"
   ]
  }
 ],
 "metadata": {
  "interpreter": {
   "hash": "21011ec3f8359e725d0e30ec23938534a924568987a65f39ffe672e6d708092d"
  },
  "kernelspec": {
   "display_name": "Python 3.8.5 64-bit ('mldd': conda)",
   "language": "python",
   "name": "python3"
  },
  "language_info": {
   "codemirror_mode": {
    "name": "ipython",
    "version": 3
   },
   "file_extension": ".py",
   "mimetype": "text/x-python",
   "name": "python",
   "nbconvert_exporter": "python",
   "pygments_lexer": "ipython3",
   "version": "3.8.5"
  },
  "orig_nbformat": 4
 },
 "nbformat": 4,
 "nbformat_minor": 2
}
