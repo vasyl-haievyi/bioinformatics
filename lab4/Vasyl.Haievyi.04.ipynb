{
 "cells": [
  {
   "cell_type": "code",
   "execution_count": 48,
   "source": [
    "from Bio import SeqIO\n",
    "from Bio import Entrez\n",
    "\n",
    "Entrez.email = \"vasyl.haievyi@student.uj.edu.pl\"\n",
    "\n",
    "handle = Entrez.efetch(db='protein', id='40886941', rettype='gb', retmode='text')\n",
    "record = SeqIO.read(handle, 'genbank')\n",
    "human_hemo = record.seq\n",
    "\n",
    "handle = Entrez.efetch(db='protein', id='34849618', rettype='gb', retmode='text')\n",
    "record = SeqIO.read(handle, 'genbank')\n",
    "rat_hemo = record.seq\n",
    "\n",
    "print(human_hemo)\n",
    "print(rat_hemo)"
   ],
   "outputs": [
    {
     "output_type": "stream",
     "name": "stdout",
     "text": [
      "MVHLTPEEKSAVTALWGKVNVDEVGGEALGRLLVVYPWTQRLFESFGDLFTPDAVMGNPKVKAHGKKVLGAFSDGPAHLDNLKGTFATLSELHCDKLHVDPENFRLLGNVLVCVLAHHFGKEFTPPVQAAYQKVVAGVANALAHKYH\n",
      "MVHLTDAEKAAVNGLWGKVNPDDVGGEALGRLLVVYPWTQRYFDSFGDLSSASAIMGNPKVKAHGKKVINAFNDGLKHLDNLKGTFAHLSELHCDKLHVDPENFRLLGNMIVIVLGHHLGKEFTPCAQAAFQKVVAGVASALAHKYH\n"
     ]
    }
   ],
   "metadata": {}
  },
  {
   "cell_type": "code",
   "execution_count": 49,
   "source": [
    "print(len(human_hemo))\n",
    "print(len(rat_hemo))"
   ],
   "outputs": [
    {
     "output_type": "stream",
     "name": "stdout",
     "text": [
      "147\n",
      "147\n"
     ]
    }
   ],
   "metadata": {}
  },
  {
   "cell_type": "code",
   "execution_count": 50,
   "source": [
    "from Bio.SubsMat import MatrixInfo as mi\n",
    "blosum62 = mi.blosum62"
   ],
   "outputs": [],
   "metadata": {}
  },
  {
   "cell_type": "code",
   "execution_count": 51,
   "source": [
    "import numpy as np\n",
    "NW_table = np.zeros((len(human_hemo) + 1, len(rat_hemo) + 1))\n",
    "value_origin = [[[] for _ in range(len(rat_hemo) + 1)] for _ in range(len(human_hemo) + 1)]"
   ],
   "outputs": [],
   "metadata": {}
  },
  {
   "cell_type": "code",
   "execution_count": 52,
   "source": [
    "break_penalty = -7\n",
    "\n",
    "for row in range(1, len(human_hemo) + 1):\n",
    "    NW_table[row][0] = break_penalty * row\n",
    "\n",
    "for col in range(1, len(rat_hemo) + 1):\n",
    "    NW_table[0][col] = break_penalty * col   "
   ],
   "outputs": [],
   "metadata": {}
  },
  {
   "cell_type": "code",
   "execution_count": 53,
   "source": [
    "NW_table"
   ],
   "outputs": [
    {
     "output_type": "execute_result",
     "data": {
      "text/plain": [
       "array([[    0.,    -7.,   -14., ..., -1015., -1022., -1029.],\n",
       "       [   -7.,     0.,     0., ...,     0.,     0.,     0.],\n",
       "       [  -14.,     0.,     0., ...,     0.,     0.,     0.],\n",
       "       ...,\n",
       "       [-1015.,     0.,     0., ...,     0.,     0.,     0.],\n",
       "       [-1022.,     0.,     0., ...,     0.,     0.,     0.],\n",
       "       [-1029.,     0.,     0., ...,     0.,     0.,     0.]])"
      ]
     },
     "metadata": {},
     "execution_count": 53
    }
   ],
   "metadata": {}
  },
  {
   "cell_type": "code",
   "execution_count": 54,
   "source": [
    "def get_blosum62_penalty(acid1, acid2) -> int:\n",
    "    if (acid1, rat_hemo[col - 1]) in blosum62:\n",
    "        return blosum62[(acid1, acid2)]\n",
    "    else:\n",
    "        return blosum62[(acid2, acid1)]\n",
    "\n",
    "def NW_table_possible_values():\n",
    "    blosum62_penalty = get_blosum62_penalty(human_hemo[row - 1], rat_hemo[col - 1])\n",
    "\n",
    "    match_or_subs = NW_table[row - 1][col - 1] + blosum62_penalty\n",
    "    human_break = NW_table[row - 1][col] + break_penalty\n",
    "    rat_break = NW_table[row][col - 1] + break_penalty\n",
    "\n",
    "    return {\"match_or_subs\" : match_or_subs, \"human_break\" : human_break, \"rat_break\" : rat_break }\n",
    "\n",
    "def populate_path_matrix(row, col ,possible_values: dict):\n",
    "    if NW_table[row][col] == possible_values[\"match_or_subs\"]:\n",
    "        value_origin[row][col].append((row - 1, col - 1))\n",
    "    if NW_table[row][col] == possible_values[\"human_break\"]:\n",
    "        value_origin[row][col].append((row - 1, col))\n",
    "    if NW_table[row][col] == possible_values[\"rat_break\"]:\n",
    "        value_origin[row][col].append((row - 1, col))"
   ],
   "outputs": [],
   "metadata": {}
  },
  {
   "cell_type": "code",
   "execution_count": 55,
   "source": [
    "for row in range(1, len(human_hemo) + 1):\n",
    "    for col in range(1, len(rat_hemo) + 1):\n",
    "        possible_values = NW_table_possible_values()\n",
    "\n",
    "        NW_table[row][col] = max(possible_values.values())\n",
    "\n",
    "        populate_path_matrix(row, col, possible_values)"
   ],
   "outputs": [],
   "metadata": {}
  },
  {
   "cell_type": "code",
   "execution_count": 56,
   "source": [
    "NW_table"
   ],
   "outputs": [
    {
     "output_type": "execute_result",
     "data": {
      "text/plain": [
       "array([[    0.,    -7.,   -14., ..., -1015., -1022., -1029.],\n",
       "       [   -7.,     5.,    -2., ..., -1003., -1010., -1017.],\n",
       "       [  -14.,    -2.,     9., ...,  -992.,  -999., -1006.],\n",
       "       ...,\n",
       "       [-1015., -1003.,  -992., ...,   617.,   610.,   603.],\n",
       "       [-1022., -1010.,  -999., ...,   610.,   624.,   617.],\n",
       "       [-1029., -1017., -1006., ...,   603.,   617.,   632.]])"
      ]
     },
     "metadata": {},
     "execution_count": 56
    }
   ],
   "metadata": {}
  },
  {
   "cell_type": "code",
   "execution_count": 57,
   "source": [
    "row, col = len(human_hemo), len(rat_hemo)\n",
    "\n",
    "def print_paths(row, col, current_path=(\"\", \"\")):\n",
    "    if (row, col) == (0, 0):\n",
    "        connection = \"\"\n",
    "        for (upper_acid, lower_acid) in zip(*current_path):\n",
    "            connection +=   \"|\" if upper_acid == lower_acid else \" \" \n",
    "\n",
    "        symbols_in_line = 80\n",
    "\n",
    "        for idx in range(0, len(connection), symbols_in_line):\n",
    "            print(current_path[0][idx: idx + symbols_in_line])\n",
    "            print(connection[idx: idx + symbols_in_line])\n",
    "            print(current_path[1][idx: idx + symbols_in_line])\n",
    "            print()\n",
    "        print(\"=\" * symbols_in_line)\n",
    "    else:\n",
    "        coords = value_origin[row][col]\n",
    "        for coord in coords:\n",
    "            if coord == (row - 1, col - 1):\n",
    "                print_paths(row - 1, col - 1, (human_hemo[row - 1] + current_path[0] , rat_hemo[col - 1] + current_path[1]))\n",
    "            elif coord == (row, col - 1):\n",
    "                print_paths(row, col - 1, (\"-\" + current_path[0] , rat_hemo[col - 1] + current_path[1]))\n",
    "            elif coord == (row - 1, col):\n",
    "                print_paths(row - 1, col, (human_hemo[row - 1] + current_path[0] , \"-\" + current_path[1])) \n",
    "\n",
    "print_paths(row, col)"
   ],
   "outputs": [
    {
     "output_type": "stream",
     "name": "stdout",
     "text": [
      "MVHLTPEEKSAVTALWGKVNVDEVGGEALGRLLVVYPWTQRLFESFGDLFTPDAVMGNPKVKAHGKKVLGAFSDGPAHLD\n",
      "|||||  || ||  |||||| | |||||||||||||||||| | |||||    | |||||||||||||  || ||  |||\n",
      "MVHLTDAEKAAVNGLWGKVNPDDVGGEALGRLLVVYPWTQRYFDSFGDLSSASAIMGNPKVKAHGKKVINAFNDGLKHLD\n",
      "\n",
      "NLKGTFATLSELHCDKLHVDPENFRLLGNVLVCVLAHHFGKEFTPPVQAAYQKVVAGVANALAHKYH\n",
      "||||||| |||||||||||||||||||||  | || || ||||||  ||| |||||||| |||||||\n",
      "NLKGTFAHLSELHCDKLHVDPENFRLLGNMIVIVLGHHLGKEFTPCAQAAFQKVVAGVASALAHKYH\n",
      "\n",
      "================================================================================\n"
     ]
    }
   ],
   "metadata": {}
  },
  {
   "cell_type": "code",
   "execution_count": 58,
   "source": [
    "from Bio import pairwise2\n",
    "\n",
    "alignments = pairwise2.align.globalds(human_hemo, rat_hemo, match_dict=blosum62, open=-7, extend=-7)\n",
    "\n",
    "print(len(alignments))\n",
    "\n",
    "print(*alignments[0][:2])"
   ],
   "outputs": [
    {
     "output_type": "stream",
     "name": "stdout",
     "text": [
      "1\n",
      "MVHLTPEEKSAVTALWGKVNVDEVGGEALGRLLVVYPWTQRLFESFGDLFTPDAVMGNPKVKAHGKKVLGAFSDGPAHLDNLKGTFATLSELHCDKLHVDPENFRLLGNVLVCVLAHHFGKEFTPPVQAAYQKVVAGVANALAHKYH MVHLTDAEKAAVNGLWGKVNPDDVGGEALGRLLVVYPWTQRYFDSFGDLSSASAIMGNPKVKAHGKKVINAFNDGLKHLDNLKGTFAHLSELHCDKLHVDPENFRLLGNMIVIVLGHHLGKEFTPCAQAAFQKVVAGVASALAHKYH\n"
     ]
    }
   ],
   "metadata": {}
  },
  {
   "cell_type": "code",
   "execution_count": null,
   "source": [],
   "outputs": [],
   "metadata": {}
  }
 ],
 "metadata": {
  "orig_nbformat": 4,
  "language_info": {
   "name": "python",
   "version": "3.9.5",
   "mimetype": "text/x-python",
   "codemirror_mode": {
    "name": "ipython",
    "version": 3
   },
   "pygments_lexer": "ipython3",
   "nbconvert_exporter": "python",
   "file_extension": ".py"
  },
  "kernelspec": {
   "name": "python3",
   "display_name": "Python 3.9.5 64-bit ('base': conda)"
  },
  "interpreter": {
   "hash": "6d6011b60a80e9ead56e680529bb6f8147ff38b45a3c81dff0940264d43dd351"
  }
 },
 "nbformat": 4,
 "nbformat_minor": 2
}