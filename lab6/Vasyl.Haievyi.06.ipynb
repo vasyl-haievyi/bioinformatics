{
 "cells": [
  {
   "cell_type": "code",
   "execution_count": 19,
   "metadata": {},
   "outputs": [],
   "source": [
    "from Bio import Entrez\n",
    "\n",
    "Entrez.email = \"vasyl.haievyi@student.uj.edu.pl\""
   ]
  },
  {
   "cell_type": "markdown",
   "metadata": {},
   "source": [
    "# Zadanie 3"
   ]
  },
  {
   "cell_type": "code",
   "execution_count": 18,
   "metadata": {},
   "outputs": [],
   "source": [
    "sequence1 = \"\"\"\n",
    "GTACCTTGATTTCGTATTCTGAGAGGCTGCTGCTTAGCGGTAGCCCCTTGGTTTCCGTGGCAACGGAAAA \n",
    "GCGCGGGAATTACAGATAAATTAAAACTGCGACTGCGCGGCGTGAGCTCGCTGAGACTTCCTGGACGGGG \n",
    "GACAGGCTGTGGGGTTTCTCAGATAACTGGGCCCCTGCGCTCAGGAGGCCTTCACCCTCTGCTCTGGGTA \n",
    "AAGTTCATTGGAACAGAAAGAAATGGATTTATCTGCTCTTCGCGTTGAAGAAGTACAAAATGTCATTAAT \n",
    "GCTATGCAGAAAATCTTAGAGTGTCCCATCTGTCTGGAGTTGATCAAGGAACCTGTCTCCACAAAGTGTG \n",
    "ACCACATATTTTGCAAATTTTGCATGCTGAAACTTCTCAACCAGAAGAAAGGGCCTTCACAGTGTCCTTT \n",
    "ATGTAAGAATGATATAACCAAAAGGAGCCTACAAGAAAGTACGAGATTTAGTCAACTTGTTGAAGAGCTA \n",
    "TTGAAAATCATTTGTGCTTTTCAGCTTGACACAGGTTTGGAGTATGCAAACAGCTATAATTTTGCAAAAA \n",
    "AGGAAAATAACTCTCCTGAACATCTAAAAGATGAAGTTTCTATCATCCAAAGTATGGGCTACAGAAACCG \n",
    "TGCCAAAAGACTTCTACAGAGTGAACCCGAAAATCCTTCCTTGCAGGAAACCAGTCTCAGTGTCCAACTC \n",
    "TCTAACCTTGGAACTGTGAGAACTCTGAGGACAAAGCAGCGGATACAACCTCAAAAGACGTCTGTCTACA \n",
    "TTGAATTGGGATCTGATTCTTCTGAAGATACCGTTAATAAGGCAACTTATTGCAGTGTGGGAGATCAAGA \n",
    "ATTGTTACAAATCACCCCTCAAGGAACCAGGGATGAAATCAGTTTGGATTCTGCAAAAAAGGCTGCTTGT \n",
    "GAATTTTCTGAGACGGATGTAACAAATACTGAACATCATCAACCCAGTAATAATGATTTGAACACCACTG \n",
    "AGAAGCGTGCAGCTGAGAGGCATCCAGAAAAGTATCAGGGTAGTTCTGTTTCAAACTTGCATGTGGAGCC \n",
    "ATGTGGCACAAATACTCATGCCAGCTCATTACAGCATGAGAACAGCAGTTTATTACTCACTAAAGACAGA \n",
    "ATGAATGTAGAAAAGGCTGAATTCTGTAATAAAAGCAAACAGCCTGGCTTAGCAAGGAGCCAACATAACA \n",
    "GATGGGCTGGAAGTAAGGAAACATGTAATGATAGGCGGACTCCCAGCACAGAAAAAAAGGTAGATCTGAA \n",
    "TGCTGATCCCCTGTGTGAGAGAAAAGAATGGAATAAGCAGAAACTGCCATGCTCAGAGAATCCTAGAGAT \n",
    "ACTGAAGATGTTCCTTGGATAACACTAAATAGCAGCATTCAGAAAGTTAATGAGTGGTTTTCCAGAAGTG \n",
    "ATGAACTGTTAGGTTCTGATGACTCACATGATGGGGAGTCTGAATCAAATGCCAAAGTAGCTGATGTATT \n",
    "GGACGTTCTAAATGAGGTAGATGAATATTCTGGTTCTTCAGAGAAAATAGACTTACTGGCCAGTGATCCT \n",
    "CATGAGGCTTTAATATGTAAAAGTGAAAGAGTTCACTCCAAATCAGTAGAGAGTAATATTGAAGACAAAA \n",
    "TATTTGGGAAAACCTATCGGAAGAAGGCAAGCCTCCCCAACTTAAGCCATGTAACTGAAAATCTAATTAT \n",
    "AGGAGCATTTGTTACTGAGCCACAGATAATACAAGAGCGTCCCCTC\n",
    "\"\"\".replace(\"\\n\", \"\")"
   ]
  },
  {
   "cell_type": "code",
   "execution_count": 98,
   "metadata": {},
   "outputs": [],
   "source": [
    "from Bio.Blast import NCBIWWW\n",
    "\n",
    "result_handle = NCBIWWW.qblast(\"blastn\", \"nt\", sequence1)\n"
   ]
  },
  {
   "cell_type": "code",
   "execution_count": 99,
   "metadata": {},
   "outputs": [],
   "source": [
    "from Bio.Blast import NCBIXML \n",
    "blast_records = NCBIXML.parse(result_handle) "
   ]
  },
  {
   "cell_type": "code",
   "execution_count": 100,
   "metadata": {},
   "outputs": [
    {
     "name": "stdout",
     "output_type": "stream",
     "text": [
      "<Bio.Blast.Record.Blast object at 0x7f7854d3b280>\n"
     ]
    }
   ],
   "source": [
    "records = []\n",
    "for record in blast_records:\n",
    "    print(record)\n",
    "    records.append(record)"
   ]
  },
  {
   "cell_type": "code",
   "execution_count": 101,
   "metadata": {},
   "outputs": [],
   "source": [
    "for d in records[0].descriptions:\n",
    "    try:\n",
    "        print(d.items)\n",
    "    except:\n",
    "        pass"
   ]
  },
  {
   "cell_type": "code",
   "execution_count": 102,
   "metadata": {},
   "outputs": [
    {
     "name": "stdout",
     "output_type": "stream",
     "text": [
      "Title gi|1367196349|ref|XM_024350087.1| PREDICTED: Pan troglodytes BRCA1, DNA repair associated (BRCA1), transcript variant X8, mRNA\n",
      "Score 3407.0\n",
      "E 0.0\n",
      "=============================\n",
      "Title gi|1367196328|ref|XM_009432080.3| PREDICTED: Pan troglodytes BRCA1, DNA repair associated (BRCA1), transcript variant X2, mRNA\n",
      "Score 3407.0\n",
      "E 0.0\n",
      "=============================\n",
      "Title gi|1849034472|ref|XM_034941175.1| PREDICTED: Pan paniscus BRCA1 DNA repair associated (BRCA1), transcript variant X6, mRNA\n",
      "Score 3397.0\n",
      "E 0.0\n",
      "=============================\n",
      "Title gi|1849034470|ref|XM_034941174.1| PREDICTED: Pan paniscus BRCA1 DNA repair associated (BRCA1), transcript variant X5, mRNA\n",
      "Score 3397.0\n",
      "E 0.0\n",
      "=============================\n",
      "Title gi|1849034462|ref|XM_034941170.1| PREDICTED: Pan paniscus BRCA1 DNA repair associated (BRCA1), transcript variant X1, mRNA\n",
      "Score 3397.0\n",
      "E 0.0\n",
      "=============================\n",
      "Title gi|1849034474|ref|XM_034941176.1| PREDICTED: Pan paniscus BRCA1 DNA repair associated (BRCA1), transcript variant X7, mRNA\n",
      "Score 3380.0\n",
      "E 0.0\n",
      "=============================\n",
      "Title gi|1367196332|ref|XM_009432081.3| PREDICTED: Pan troglodytes BRCA1, DNA repair associated (BRCA1), transcript variant X3, mRNA\n",
      "Score 3378.0\n",
      "E 0.0\n",
      "=============================\n",
      "Title gi|1753074927|ref|XM_031011559.1| PREDICTED: Gorilla gorilla gorilla BRCA1 DNA repair associated (BRCA1), transcript variant X8, mRNA\n",
      "Score 3377.0\n",
      "E 0.0\n",
      "=============================\n",
      "Title gi|1753074921|ref|XM_031011556.1| PREDICTED: Gorilla gorilla gorilla BRCA1 DNA repair associated (BRCA1), transcript variant X5, mRNA\n",
      "Score 3377.0\n",
      "E 0.0\n",
      "=============================\n",
      "Title gi|1753074919|ref|XM_031011555.1| PREDICTED: Gorilla gorilla gorilla BRCA1 DNA repair associated (BRCA1), transcript variant X4, mRNA\n",
      "Score 3377.0\n",
      "E 0.0\n",
      "=============================\n",
      "Title gi|1753074913|ref|XM_031011552.1| PREDICTED: Gorilla gorilla gorilla BRCA1 DNA repair associated (BRCA1), transcript variant X1, mRNA\n",
      "Score 3377.0\n",
      "E 0.0\n",
      "=============================\n",
      "Title gi|1849034466|ref|XM_034941172.1| PREDICTED: Pan paniscus BRCA1 DNA repair associated (BRCA1), transcript variant X3, mRNA\n",
      "Score 3368.0\n",
      "E 0.0\n",
      "=============================\n",
      "Title gi|1367196342|ref|XM_009432084.3| PREDICTED: Pan troglodytes BRCA1, DNA repair associated (BRCA1), transcript variant X6, mRNA\n",
      "Score 3361.0\n",
      "E 0.0\n",
      "=============================\n",
      "Title gi|1351467960|ref|XM_009251711.2| PREDICTED: Pongo abelii BRCA1, DNA repair associated (BRCA1), transcript variant X15, mRNA\n",
      "Score 3302.0\n",
      "E 0.0\n",
      "=============================\n",
      "Title gi|1351467958|ref|XM_009251710.2| PREDICTED: Pongo abelii BRCA1, DNA repair associated (BRCA1), transcript variant X14, mRNA\n",
      "Score 3302.0\n",
      "E 0.0\n",
      "=============================\n",
      "Title gi|1351467948|ref|XM_024235547.1| PREDICTED: Pongo abelii BRCA1, DNA repair associated (BRCA1), transcript variant X9, mRNA\n",
      "Score 3302.0\n",
      "E 0.0\n",
      "=============================\n",
      "Title gi|1351467934|ref|XM_024235545.1| PREDICTED: Pongo abelii BRCA1, DNA repair associated (BRCA1), transcript variant X3, mRNA\n",
      "Score 3302.0\n",
      "E 0.0\n",
      "=============================\n",
      "Title gi|1351467932|ref|XM_009251698.2| PREDICTED: Pongo abelii BRCA1, DNA repair associated (BRCA1), transcript variant X2, mRNA\n",
      "Score 3302.0\n",
      "E 0.0\n",
      "=============================\n",
      "Title gi|1351467929|ref|XM_003778832.2| PREDICTED: Pongo abelii BRCA1, DNA repair associated (BRCA1), transcript variant X1, mRNA\n",
      "Score 3302.0\n",
      "E 0.0\n",
      "=============================\n",
      "Title gi|1351467946|ref|XM_024235546.1| PREDICTED: Pongo abelii BRCA1, DNA repair associated (BRCA1), transcript variant X8, mRNA\n",
      "Score 3285.0\n",
      "E 0.0\n",
      "=============================\n",
      "Title gi|1753074915|ref|XM_031011553.1| PREDICTED: Gorilla gorilla gorilla BRCA1 DNA repair associated (BRCA1), transcript variant X2, mRNA\n",
      "Score 3282.0\n",
      "E 0.0\n",
      "=============================\n",
      "Title gi|92096023|gb|BC115037.1| Homo sapiens breast cancer 1, early onset, mRNA (cDNA clone MGC:131629 IMAGE:7961446), complete cds\n",
      "Score 3233.0\n",
      "E 0.0\n",
      "=============================\n",
      "Title gi|21411299|gb|BC030969.1| Homo sapiens breast cancer 1, early onset, mRNA (cDNA clone IMAGE:4804551), partial cds\n",
      "Score 3226.0\n",
      "E 0.0\n",
      "=============================\n",
      "Title gi|15214876|gb|BC012577.1| Homo sapiens breast cancer 1, early onset, mRNA (cDNA clone IMAGE:3996658), with apparent retained intron\n",
      "Score 3221.0\n",
      "E 0.0\n",
      "=============================\n",
      "Title gi|1732746264|ref|NM_007294.4| Homo sapiens BRCA1 DNA repair associated (BRCA1), transcript variant 1, mRNA\n",
      "Score 3214.0\n",
      "E 0.0\n",
      "=============================\n",
      "Title gi|1677529721|ref|NM_007300.4| Homo sapiens BRCA1 DNA repair associated (BRCA1), transcript variant 2, mRNA\n",
      "Score 3214.0\n",
      "E 0.0\n",
      "=============================\n",
      "Title gi|1351467936|ref|XM_009251699.2| PREDICTED: Pongo abelii BRCA1, DNA repair associated (BRCA1), transcript variant X4, mRNA\n",
      "Score 3213.0\n",
      "E 0.0\n",
      "=============================\n",
      "Title gi|1753074923|ref|XM_031011557.1| PREDICTED: Gorilla gorilla gorilla BRCA1 DNA repair associated (BRCA1), transcript variant X6, mRNA\n",
      "Score 3203.0\n",
      "E 0.0\n",
      "=============================\n",
      "Title gi|555931|gb|U14680.1|HSU14680 Homo sapiens breast and ovarian cancer susceptibility (BRCA1) mRNA, complete cds\n",
      "Score 3197.0\n",
      "E 0.0\n",
      "=============================\n",
      "Title gi|1799996790|ref|XM_032163746.1| PREDICTED: Hylobates moloch BRCA1 DNA repair associated (BRCA1), transcript variant X2, mRNA\n",
      "Score 3163.0\n",
      "E 0.0\n",
      "=============================\n",
      "Title gi|1751254454|ref|XM_030923114.1| PREDICTED: Rhinopithecus roxellana BRCA1 DNA repair associated (BRCA1), transcript variant X5, mRNA\n",
      "Score 3107.0\n",
      "E 0.0\n",
      "=============================\n",
      "Title gi|1751254445|ref|XM_030923110.1| PREDICTED: Rhinopithecus roxellana BRCA1 DNA repair associated (BRCA1), transcript variant X1, mRNA\n",
      "Score 3107.0\n",
      "E 0.0\n",
      "=============================\n",
      "Title gi|1622875436|ref|XM_015119746.2| PREDICTED: Macaca mulatta BRCA1 DNA repair associated (BRCA1), transcript variant X3, mRNA\n",
      "Score 3105.0\n",
      "E 0.0\n",
      "=============================\n",
      "Title gi|1622875432|ref|XM_015119744.2| PREDICTED: Macaca mulatta BRCA1 DNA repair associated (BRCA1), transcript variant X1, mRNA\n",
      "Score 3105.0\n",
      "E 0.0\n",
      "=============================\n",
      "Title gi|982303743|ref|XM_005584349.2| PREDICTED: Macaca fascicularis breast cancer 1 (BRCA1), transcript variant X2, mRNA\n",
      "Score 3105.0\n",
      "E 0.0\n",
      "=============================\n",
      "Title gi|1799996809|ref|XR_004249772.1| PREDICTED: Hylobates moloch BRCA1 DNA repair associated (BRCA1), transcript variant X12, misc_RNA\n",
      "Score 3095.0\n",
      "E 0.0\n",
      "=============================\n",
      "Title gi|1799996806|ref|XR_004249771.1| PREDICTED: Hylobates moloch BRCA1 DNA repair associated (BRCA1), transcript variant X10, misc_RNA\n",
      "Score 3095.0\n",
      "E 0.0\n",
      "=============================\n",
      "Title gi|1799996800|ref|XM_032163751.1| PREDICTED: Hylobates moloch BRCA1 DNA repair associated (BRCA1), transcript variant X7, mRNA\n",
      "Score 3095.0\n",
      "E 0.0\n",
      "=============================\n",
      "Title gi|1799996794|ref|XM_032163748.1| PREDICTED: Hylobates moloch BRCA1 DNA repair associated (BRCA1), transcript variant X4, mRNA\n",
      "Score 3095.0\n",
      "E 0.0\n",
      "=============================\n",
      "Title gi|1799996792|ref|XM_032163747.1| PREDICTED: Hylobates moloch BRCA1 DNA repair associated (BRCA1), transcript variant X3, mRNA\n",
      "Score 3095.0\n",
      "E 0.0\n",
      "=============================\n",
      "Title gi|1799996788|ref|XM_032163745.1| PREDICTED: Hylobates moloch BRCA1 DNA repair associated (BRCA1), transcript variant X1, mRNA\n",
      "Score 3095.0\n",
      "E 0.0\n",
      "=============================\n",
      "Title gi|1381485886|ref|XM_011725006.2| PREDICTED: Macaca nemestrina BRCA1, DNA repair associated (BRCA1), transcript variant X5, mRNA\n",
      "Score 3095.0\n",
      "E 0.0\n",
      "=============================\n",
      "Title gi|1381485882|ref|XM_011725001.2| PREDICTED: Macaca nemestrina BRCA1, DNA repair associated (BRCA1), transcript variant X1, mRNA\n",
      "Score 3095.0\n",
      "E 0.0\n",
      "=============================\n",
      "Title gi|1622875439|ref|XM_015119747.2| PREDICTED: Macaca mulatta BRCA1 DNA repair associated (BRCA1), transcript variant X4, mRNA\n",
      "Score 3088.0\n",
      "E 0.0\n",
      "=============================\n",
      "Title gi|1799996796|ref|XM_032163749.1| PREDICTED: Hylobates moloch BRCA1 DNA repair associated (BRCA1), transcript variant X5, mRNA\n",
      "Score 3078.0\n",
      "E 0.0\n",
      "=============================\n",
      "Title gi|1381485887|ref|XM_011725007.2| PREDICTED: Macaca nemestrina BRCA1, DNA repair associated (BRCA1), transcript variant X6, mRNA\n",
      "Score 3078.0\n",
      "E 0.0\n",
      "=============================\n",
      "Title gi|1622875434|ref|XM_015119745.2| PREDICTED: Macaca mulatta BRCA1 DNA repair associated (BRCA1), transcript variant X2, mRNA\n",
      "Score 3076.0\n",
      "E 0.0\n",
      "=============================\n",
      "Title gi|982303750|ref|XM_015437856.1| PREDICTED: Macaca fascicularis breast cancer 1 (BRCA1), transcript variant X6, mRNA\n",
      "Score 3076.0\n",
      "E 0.0\n",
      "=============================\n",
      "Title gi|982303741|ref|XM_015437852.1| PREDICTED: Macaca fascicularis breast cancer 1 (BRCA1), transcript variant X1, mRNA\n",
      "Score 3076.0\n",
      "E 0.0\n",
      "=============================\n",
      "Title gi|1411121003|ref|XM_025363314.1| PREDICTED: Theropithecus gelada BRCA1, DNA repair associated (BRCA1), transcript variant X4, mRNA\n",
      "Score 3075.0\n",
      "E 0.0\n",
      "=============================\n"
     ]
    }
   ],
   "source": [
    "for desc, alignment in zip(records[0].descriptions, records[0].alignments):\n",
    "    print('Title', desc.title)\n",
    "    print('Score', desc.score)\n",
    "    print('E', desc.e)\n",
    "    print('=============================')\n",
    "\n",
    "    "
   ]
  },
  {
   "cell_type": "markdown",
   "metadata": {},
   "source": [
    "# Zadanie 4"
   ]
  },
  {
   "cell_type": "code",
   "execution_count": 2,
   "metadata": {},
   "outputs": [],
   "source": [
    "protein = \"\"\"\n",
    "MKSILDGLADTTFRTITTDLLGSPFQEKMTAGDNPQLVPADQVNITEFYNKSLSSFKENEENIQCGENFM \n",
    "DIECFMVLNPSQQLAIAVLSLTLGTFTVLENLLVLCVILHSRSLRCRPSYHFIGSLAVADLLGSVIFVYS \n",
    "FIDFHVFHRKDSRNVFLFKLGGVTASFTASVGSLFLTAIDRYISIHRPLAYKRIVTRPKAVVAFCLMWTI \n",
    "AIVIAVLPLLGWNCEKLQSVCSDIFPHIDETYLMFWIGVTSVLLLFIVYAYMYILWKAHSHAVRMIQRGT \n",
    "QKSIIIHTSEDGKVQVTRPDQARMDIRLAKTLVLILVVLIICWGPLLAIMVYDVFGKMNKLIKTVFAFCS \n",
    "MLCLLNSTVNPIIYALRSKDLRHAFRSMFPSCEGTAQPLDNSMGDSDCLHKHANNAASVHRAAESCIKST \n",
    "VKIAKVTMSVSTDTSAEAL\n",
    "\"\"\".replace(\"\\n\", \"\")"
   ]
  },
  {
   "cell_type": "code",
   "execution_count": 3,
   "metadata": {},
   "outputs": [],
   "source": [
    "from Bio.Blast import NCBIWWW\n",
    "\n",
    "result_handle = NCBIWWW.qblast(\"blastp\", \"nr\", protein)"
   ]
  },
  {
   "cell_type": "code",
   "execution_count": 5,
   "metadata": {},
   "outputs": [
    {
     "name": "stdout",
     "output_type": "stream",
     "text": [
      "<Bio.Blast.Record.Blast object at 0x7f51c01c2640>\n"
     ]
    }
   ],
   "source": [
    "from Bio.Blast import NCBIXML \n",
    "blast_records = NCBIXML.parse(result_handle) \n",
    "records = []\n",
    "for record in blast_records:\n",
    "    print(record)\n",
    "    records.append(record)"
   ]
  },
  {
   "cell_type": "code",
   "execution_count": 11,
   "metadata": {},
   "outputs": [],
   "source": [
    "homo_sapiens = list(filter(lambda x: \"Homo sapiens\" in x.title, records[0].descriptions))[0]"
   ]
  },
  {
   "cell_type": "code",
   "execution_count": 12,
   "metadata": {},
   "outputs": [
    {
     "name": "stdout",
     "output_type": "stream",
     "text": [
      "ref|NP_149421.2| cannabinoid receptor 1 isoform b [Homo sapiens] >ref|XP_002817182.1| cannabinoid receptor 1 isoform X2 [Pongo abelii] >ref|XP_011839841.1| PREDICTED: cannabinoid receptor 1 isoform X2 [Mandrillus leucophaeus] >ref|XP_025238412.1| cannabinoid receptor 1 isoform X2 [Theropithecus gelada] >ref|XP_030785377.1| cannabinoid receptor 1 isoform X2 [Rhinopithecus roxellana] >gb|PNI87957.1| CNR1 isoform 7 [Pan troglodytes] >gb|AAV35030.1| cannabinoid receptor 1 splice variant CB1b [Homo sapiens] >gb|AGW25490.1| cannabinoid receptor 1 transcript variant 2 [Homo sapiens] >gb|PNJ60190.1| CNR1 isoform 5 [Pongo abelii]\n"
     ]
    }
   ],
   "source": [
    "print(homo_sapiens.title)"
   ]
  },
  {
   "cell_type": "code",
   "execution_count": 18,
   "metadata": {},
   "outputs": [
    {
     "name": "stdout",
     "output_type": "stream",
     "text": [
      "Title ref|XP_023060944.1| cannabinoid receptor 1 isoform X2 [Piliocolobus tephrosceles]\n",
      "Score 2343.0\n",
      "=============================\n",
      "Title ref|XP_011797296.1| PREDICTED: cannabinoid receptor 1 isoform X2 [Colobus angolensis palliatus]\n",
      "Score 2342.0\n",
      "=============================\n",
      "Title ref|XP_005889359.1| PREDICTED: cannabinoid receptor 1 isoform X2 [Bos mutus] >ref|XP_010832997.1| PREDICTED: cannabinoid receptor 1 isoform X2 [Bison bison bison] >tpg|DAA26181.1| TPA: cannabinoid receptor 1-like isoform 2 [Bos taurus]\n",
      "Score 2301.0\n",
      "=============================\n",
      "Title ref|XP_011922436.1| PREDICTED: cannabinoid receptor 1 [Cercocebus atys] >ref|XP_011922437.1| PREDICTED: cannabinoid receptor 1 [Cercocebus atys] >ref|XP_011922438.1| PREDICTED: cannabinoid receptor 1 [Cercocebus atys] >ref|XP_011922439.1| PREDICTED: cannabinoid receptor 1 [Cercocebus atys] >ref|XP_011922440.1| PREDICTED: cannabinoid receptor 1 [Cercocebus atys]\n",
      "Score 2300.0\n",
      "=============================\n",
      "Title ref|XP_006926385.1| cannabinoid receptor 1 isoform X2 [Pteropus alecto] >ref|XP_011365675.1| cannabinoid receptor 1 isoform X2 [Pteropus vampyrus]\n",
      "Score 2299.0\n",
      "=============================\n",
      "Title ref|XP_003732755.1| cannabinoid receptor 1 [Callithrix jacchus] >ref|XP_008993005.1| cannabinoid receptor 1 [Callithrix jacchus] >ref|XP_012299715.1| cannabinoid receptor 1 [Aotus nancymaae] >ref|XP_012299716.1| cannabinoid receptor 1 [Aotus nancymaae] >ref|XP_012299717.1| cannabinoid receptor 1 [Aotus nancymaae] >ref|XP_012299718.1| cannabinoid receptor 1 [Aotus nancymaae] >ref|XP_017362302.1| cannabinoid receptor 1 [Cebus imitator] >ref|XP_017362303.1| cannabinoid receptor 1 [Cebus imitator] >ref|XP_032131171.1| cannabinoid receptor 1 [Sapajus apella] >ref|XP_032131173.1| cannabinoid receptor 1 [Sapajus apella] >ref|XP_032131174.1| cannabinoid receptor 1 [Sapajus apella] >ref|XP_032131175.1| cannabinoid receptor 1 [Sapajus apella] >ref|XP_035152208.1| cannabinoid receptor 1 [Callithrix jacchus] >ref|XP_035152209.1| cannabinoid receptor 1 [Callithrix jacchus] >ref|XP_035152210.1| cannabinoid receptor 1 [Callithrix jacchus] >ref|XP_035152212.1| cannabinoid receptor 1 [Callithrix jacchus] >ref|XP_037586719.1| cannabinoid receptor 1 [Cebus imitator] >ref|XP_037586720.1| cannabinoid receptor 1 [Cebus imitator]\n",
      "Score 2299.0\n",
      "=============================\n",
      "Title ref|XP_023060938.1| cannabinoid receptor 1 isoform X1 [Piliocolobus tephrosceles] >ref|XP_023060939.1| cannabinoid receptor 1 isoform X1 [Piliocolobus tephrosceles] >ref|XP_023060940.1| cannabinoid receptor 1 isoform X1 [Piliocolobus tephrosceles] >ref|XP_023060941.1| cannabinoid receptor 1 isoform X1 [Piliocolobus tephrosceles] >ref|XP_023060943.1| cannabinoid receptor 1 isoform X1 [Piliocolobus tephrosceles] >ref|XP_026310314.1| cannabinoid receptor 1 isoform X1 [Piliocolobus tephrosceles] >ref|XP_026310315.1| cannabinoid receptor 1 isoform X1 [Piliocolobus tephrosceles] >ref|XP_026310316.1| cannabinoid receptor 1 isoform X1 [Piliocolobus tephrosceles] >ref|XP_031791381.1| cannabinoid receptor 1 isoform X1 [Piliocolobus tephrosceles] >ref|XP_031791382.1| cannabinoid receptor 1 isoform X1 [Piliocolobus tephrosceles] >ref|XP_031791383.1| cannabinoid receptor 1 isoform X1 [Piliocolobus tephrosceles]\n",
      "Score 2299.0\n",
      "=============================\n",
      "Title ref|XP_018885656.1| cannabinoid receptor 1 [Gorilla gorilla gorilla] >ref|XP_018885657.1| cannabinoid receptor 1 [Gorilla gorilla gorilla]\n",
      "Score 2298.0\n",
      "=============================\n",
      "Title ref|XP_004389048.1| cannabinoid receptor 1 isoform X2 [Trichechus manatus latirostris]\n",
      "Score 2295.0\n",
      "=============================\n",
      "Title ref|XP_011797291.1| PREDICTED: cannabinoid receptor 1 isoform X1 [Colobus angolensis palliatus] >ref|XP_011797292.1| PREDICTED: cannabinoid receptor 1 isoform X1 [Colobus angolensis palliatus] >ref|XP_011797293.1| PREDICTED: cannabinoid receptor 1 isoform X1 [Colobus angolensis palliatus] >ref|XP_011797294.1| PREDICTED: cannabinoid receptor 1 isoform X1 [Colobus angolensis palliatus] >ref|XP_011797295.1| PREDICTED: cannabinoid receptor 1 isoform X1 [Colobus angolensis palliatus] >ref|XP_030665323.1| cannabinoid receptor 1 [Nomascus leucogenys] >ref|XP_030665324.1| cannabinoid receptor 1 [Nomascus leucogenys] >ref|XP_030665325.1| cannabinoid receptor 1 [Nomascus leucogenys]\n",
      "Score 2293.0\n",
      "=============================\n",
      "Title ref|XP_010332103.1| cannabinoid receptor 1 [Saimiri boliviensis boliviensis]\n",
      "Score 2292.0\n",
      "=============================\n",
      "Title ref|XP_003404404.1| cannabinoid receptor 1 isoform X2 [Loxodonta africana] >ref|XP_007949128.1| cannabinoid receptor 1 [Orycteropus afer afer]\n",
      "Score 2292.0\n",
      "=============================\n",
      "Title ref|XP_008974723.2| cannabinoid receptor 1 [Pan paniscus] >ref|XP_008974724.2| cannabinoid receptor 1 [Pan paniscus] >ref|XP_034818396.1| cannabinoid receptor 1 [Pan paniscus] >ref|XP_034818397.1| cannabinoid receptor 1 [Pan paniscus]\n",
      "Score 2292.0\n",
      "=============================\n",
      "Title ref|XP_012493651.1| PREDICTED: cannabinoid receptor 1 isoform X2 [Propithecus coquereli]\n",
      "Score 2290.0\n",
      "=============================\n",
      "Title ref|XP_006870686.1| PREDICTED: cannabinoid receptor 1 isoform X2 [Chrysochloris asiatica]\n",
      "Score 2290.0\n",
      "=============================\n",
      "Title gb|AIC54198.1| CNR1, partial [synthetic construct]\n",
      "Score 2289.0\n",
      "=============================\n",
      "Title ref|XP_004696311.1| cannabinoid receptor 1 isoform X2 [Echinops telfairi]\n",
      "Score 2288.0\n",
      "=============================\n",
      "Title ref|XP_025781373.1| cannabinoid receptor 1 [Puma concolor]\n",
      "Score 2283.0\n",
      "=============================\n",
      "Title ref|XP_007111215.1| cannabinoid receptor 1 isoform X2 [Physeter catodon]\n",
      "Score 2282.0\n",
      "=============================\n",
      "Title ref|XP_024603154.1| cannabinoid receptor 1 isoform X2 [Neophocaena asiaeorientalis asiaeorientalis]\n",
      "Score 2277.0\n",
      "=============================\n",
      "Title ref|XP_007471176.1| PREDICTED: cannabinoid receptor 1 isoform X3 [Lipotes vexillifer] >ref|XP_029079194.1| cannabinoid receptor 1 isoform X2 [Monodon monoceros] >ref|XP_032507384.1| cannabinoid receptor 1 isoform X2 [Phocoena sinus]\n",
      "Score 2277.0\n",
      "=============================\n",
      "Title ref|XP_004417554.1| PREDICTED: cannabinoid receptor 1 isoform X2 [Odobenus rosmarus divergens] >ref|XP_025715879.1| cannabinoid receptor 1 isoform X2 [Callorhinus ursinus]\n",
      "Score 2275.0\n",
      "=============================\n",
      "Title ref|XP_022376819.1| cannabinoid receptor 1 isoform X2 [Enhydra lutris kenyoni]\n",
      "Score 2275.0\n",
      "=============================\n",
      "Title ref|XP_027963915.1| cannabinoid receptor 1 isoform X2 [Eumetopias jubatus]\n",
      "Score 2271.0\n",
      "=============================\n",
      "Title ref|XP_021549177.1| cannabinoid receptor 1 isoform X2 [Neomonachus schauinslandi]\n",
      "Score 2269.0\n",
      "=============================\n",
      "Title ref|XP_008582180.1| PREDICTED: cannabinoid receptor 1 [Galeopterus variegatus] >ref|XP_010584612.1| cannabinoid receptor 1 isoform X1 [Loxodonta africana]\n",
      "Score 2268.0\n",
      "=============================\n",
      "Title ref|XP_004389047.1| cannabinoid receptor 1 isoform X1 [Trichechus manatus latirostris]\n",
      "Score 2265.0\n",
      "=============================\n",
      "Title ref|XP_012493650.1| PREDICTED: cannabinoid receptor 1 isoform X1 [Propithecus coquereli]\n",
      "Score 2265.0\n",
      "=============================\n",
      "Title ref|XP_020019380.1| cannabinoid receptor 1 isoform X2 [Castor canadensis]\n",
      "Score 2264.0\n",
      "=============================\n",
      "Title ref|XP_019517264.1| PREDICTED: cannabinoid receptor 1 [Hipposideros armiger] >ref|XP_019517265.1| PREDICTED: cannabinoid receptor 1 [Hipposideros armiger] >ref|XP_019517266.1| PREDICTED: cannabinoid receptor 1 [Hipposideros armiger] >ref|XP_019517267.1| PREDICTED: cannabinoid receptor 1 [Hipposideros armiger] >ref|XP_019517268.1| PREDICTED: cannabinoid receptor 1 [Hipposideros armiger] >ref|XP_019517269.1| PREDICTED: cannabinoid receptor 1 [Hipposideros armiger] >ref|XP_019517271.1| PREDICTED: cannabinoid receptor 1 [Hipposideros armiger]\n",
      "Score 2264.0\n",
      "=============================\n",
      "Title ref|XP_006870685.1| PREDICTED: cannabinoid receptor 1 isoform X1 [Chrysochloris asiatica]\n",
      "Score 2264.0\n",
      "=============================\n",
      "Title ref|XP_029801250.1| cannabinoid receptor 1 [Suricata suricatta] >ref|XP_029801251.1| cannabinoid receptor 1 [Suricata suricatta] >ref|XP_039088091.1| cannabinoid receptor 1 [Hyaena hyaena] >gb|KAF0871057.1| CNR1 protein, partial [Crocuta crocuta]\n",
      "Score 2263.0\n",
      "=============================\n",
      "Title ref|XP_004696310.1| cannabinoid receptor 1 isoform X1 [Echinops telfairi]\n",
      "Score 2263.0\n",
      "=============================\n",
      "Title ref|XP_024407892.1| cannabinoid receptor 1 isoform X2 [Desmodus rotundus]\n",
      "Score 2261.0\n",
      "=============================\n",
      "Title ref|XP_014409549.1| cannabinoid receptor 1 [Camelus ferus] >ref|XP_032340465.1| cannabinoid receptor 1 [Camelus ferus] >gb|EPY85522.1| cannabinoid receptor 1 isoform 1 [Camelus ferus]\n",
      "Score 2260.0\n",
      "=============================\n",
      "Title ref|XP_006902407.1| PREDICTED: cannabinoid receptor 1-like isoform X2 [Elephantulus edwardii]\n",
      "Score 2260.0\n",
      "=============================\n",
      "Title ref|XP_004766980.1| cannabinoid receptor 1 [Mustela putorius furo] >ref|XP_004766981.1| cannabinoid receptor 1 [Mustela putorius furo] >ref|XP_005627675.1| cannabinoid receptor 1 isoform X1 [Canis lupus familiaris] >ref|XP_005627676.1| cannabinoid receptor 1 isoform X1 [Canis lupus familiaris] >ref|XP_005627677.1| cannabinoid receptor 1 isoform X1 [Canis lupus familiaris] >ref|XP_006748076.1| cannabinoid receptor 1 isoform X1 [Leptonychotes weddellii] >ref|XP_025300344.2| cannabinoid receptor 1 isoform X1 [Canis lupus dingo] >ref|XP_025300345.2| cannabinoid receptor 1 isoform X1 [Canis lupus dingo] >ref|XP_025300346.2| cannabinoid receptor 1 isoform X1 [Canis lupus dingo] >ref|XP_025839624.1| cannabinoid receptor 1 [Vulpes vulpes] >ref|XP_025839625.1| cannabinoid receptor 1 [Vulpes vulpes] >ref|XP_030874832.1| cannabinoid receptor 1 isoform X1 [Leptonychotes weddellii] >ref|XP_030874833.1| cannabinoid receptor 1 isoform X1 [Leptonychotes weddellii] >ref|XP_030874834.1| cannabinoid receptor 1 isoform X1 [Leptonychotes weddellii] >ref|XP_030874835.1| cannabinoid receptor 1 isoform X1 [Leptonychotes weddellii] >ref|XP_030874836.1| cannabinoid receptor 1 isoform X1 [Leptonychotes weddellii] >ref|XP_030874837.1| cannabinoid receptor 1 isoform X1 [Leptonychotes weddellii] >ref|XP_032194972.1| cannabinoid receptor 1 [Mustela erminea] >ref|XP_032194973.1| cannabinoid receptor 1 [Mustela erminea] >ref|XP_032194974.1| cannabinoid receptor 1 [Mustela erminea] >ref|XP_034847237.1| cannabinoid receptor 1 [Mirounga leonina] >ref|XP_038540059.1| cannabinoid receptor 1 isoform X1 [Canis lupus familiaris] >ref|XP_038540060.1| cannabinoid receptor 1 isoform X1 [Canis lupus familiaris] >ref|XP_038540061.1| cannabinoid receptor 1 isoform X1 [Canis lupus familiaris] >ref|XP_041613186.1| cannabinoid receptor 1 [Vulpes lagopus] >ref|XP_041613264.1| cannabinoid receptor 1 [Vulpes lagopus] >emb|CAD7678122.1| unnamed protein product [Nyctereutes procyonoides]\n",
      "Score 2260.0\n",
      "=============================\n",
      "Title ref|XP_006200360.1| cannabinoid receptor 1 [Vicugna pacos] >ref|XP_010947250.1| PREDICTED: cannabinoid receptor 1 [Camelus bactrianus] >ref|XP_010986009.1| cannabinoid receptor 1 [Camelus dromedarius] >ref|XP_031311883.1| cannabinoid receptor 1 [Camelus dromedarius] >ref|XP_031536095.1| cannabinoid receptor 1 [Vicugna pacos] >gb|KAB1275768.1| Cannabinoid receptor 1 [Camelus dromedarius]\n",
      "Score 2260.0\n",
      "=============================\n",
      "Title ref|XP_004454561.1| cannabinoid receptor 1 [Dasypus novemcinctus] >ref|XP_004454562.1| cannabinoid receptor 1 [Dasypus novemcinctus] >ref|XP_004454563.1| cannabinoid receptor 1 [Dasypus novemcinctus] >ref|XP_004454564.1| cannabinoid receptor 1 [Dasypus novemcinctus] >ref|XP_004454565.1| cannabinoid receptor 1 [Dasypus novemcinctus]\n",
      "Score 2259.0\n",
      "=============================\n",
      "Title ref|XP_005659345.1| cannabinoid receptor 1 [Sus scrofa] >ref|XP_013848126.1| cannabinoid receptor 1 [Sus scrofa] >ref|XP_013848127.1| cannabinoid receptor 1 [Sus scrofa] >ref|XP_013848129.1| cannabinoid receptor 1 [Sus scrofa] >ref|XP_013848130.1| cannabinoid receptor 1 [Sus scrofa] >ref|XP_020945573.1| cannabinoid receptor 1 [Sus scrofa]\n",
      "Score 2259.0\n",
      "=============================\n",
      "Title ref|XP_004628281.1| cannabinoid receptor 1 isoform X2 [Octodon degus]\n",
      "Score 2258.0\n",
      "=============================\n",
      "Title ref|XP_020734795.1| cannabinoid receptor 1 [Odocoileus virginianus texanus] >ref|XP_020734796.1| cannabinoid receptor 1 [Odocoileus virginianus texanus]\n",
      "Score 2257.0\n",
      "=============================\n",
      "Title ref|NP_001229270.1| cannabinoid receptor 1 [Bos taurus] >ref|XP_004011330.1| cannabinoid receptor 1 [Ovis aries] >ref|XP_005889358.1| PREDICTED: cannabinoid receptor 1 isoform X1 [Bos mutus] >ref|XP_006058142.1| cannabinoid receptor 1 [Bubalus bubalis] >ref|XP_006058143.1| cannabinoid receptor 1 [Bubalus bubalis] >ref|XP_010832996.1| PREDICTED: cannabinoid receptor 1 isoform X1 [Bison bison bison] >ref|XP_017908645.1| PREDICTED: cannabinoid receptor 1 [Capra hircus] >ref|XP_027407219.1| cannabinoid receptor 1 [Bos indicus x Bos taurus] >ref|XP_027407220.1| cannabinoid receptor 1 [Bos indicus x Bos taurus] >ref|XP_027407221.1| cannabinoid receptor 1 [Bos indicus x Bos taurus] >ref|XP_027407222.1| cannabinoid receptor 1 [Bos indicus x Bos taurus] >ref|XP_040094749.1| cannabinoid receptor 1 [Oryx dammah] >gb|ELR61061.1| Cannabinoid receptor 1 [Bos mutus] >gb|KAG5205549.1| hypothetical protein JEQ12_018799 [Ovis aries] >gb|MXQ88702.1| hypothetical protein [Bos mutus]\n",
      "Score 2257.0\n",
      "=============================\n"
     ]
    }
   ],
   "source": [
    "for desc, alignment in zip(records[0].descriptions, records[0].alignments):\n",
    "    if \"Homo sapiens\" in desc.title:\n",
    "        continue\n",
    "\n",
    "    print('Title', desc.title)\n",
    "    print('Score', desc.score)\n",
    "    print('=============================')\n"
   ]
  },
  {
   "cell_type": "markdown",
   "metadata": {},
   "source": [
    "# Zadanie 5"
   ]
  },
  {
   "cell_type": "code",
   "execution_count": 116,
   "metadata": {},
   "outputs": [],
   "source": [
    "from Bio import SeqIO\n",
    "\n",
    "handle = Entrez.esearch(db='gene', term=\"rhodopsin\", retmax=96)\n",
    "result = Entrez.read(handle)\n"
   ]
  },
  {
   "cell_type": "code",
   "execution_count": 117,
   "metadata": {},
   "outputs": [
    {
     "data": {
      "text/plain": [
       "{'Count': '110461', 'RetMax': '96', 'RetStart': '0', 'IdList': ['20848', '154', '13051', '185', '3949', '4988', '7291', '718', '846', '12767', '18390', '105787', '7253', '5562', '729230', '7415', '4157', '135', '3350', '20779', '14160', '153', '1814', '2492', '2149', '12702', '24316', '212541', '42896', '12775', '1524', '12802', '42367', '11555', '31376', '2833', '13488', '14063', '1236', '24418', '12766', '6010', '3973', '15550', '9112', '24176', '11539', '409', '11609', '19246', '1910', '2081', '1649', '57007', '12273', '11168', '2023', '509933', '24807', '25601', '34569', '24473', '10524', '19892', '41273', '19217', '42501', '4544', '25591', '13666', '14062', '554', '19219', '9451', '13490', '30044', '31802', '3577', '2798', '24326', '22926', '18386', '36329', '117029', '5734', '19133', '6915', '24925', '13799', '728', '1232', '11541', '81638', '7399', '12333', '18442'], 'TranslationSet': [], 'TranslationStack': [{'Term': 'rhodopsin[All Fields]', 'Field': 'All Fields', 'Count': '110461', 'Explode': 'N'}, 'GROUP'], 'QueryTranslation': 'rhodopsin[All Fields]'}"
      ]
     },
     "execution_count": 117,
     "metadata": {},
     "output_type": "execute_result"
    }
   ],
   "source": [
    "result"
   ]
  },
  {
   "cell_type": "code",
   "execution_count": 121,
   "metadata": {},
   "outputs": [],
   "source": [
    "handle = Entrez.efetch(db='gene', id=','.join(result[\"IdList\"]), rettype='gb', retmode='text')\n",
    "records = SeqIO.parse(handle, 'genbank')"
   ]
  },
  {
   "cell_type": "code",
   "execution_count": 122,
   "metadata": {},
   "outputs": [
    {
     "data": {
      "text/plain": [
       "0"
      ]
     },
     "execution_count": 122,
     "metadata": {},
     "output_type": "execute_result"
    }
   ],
   "source": [
    "records_cache = []\n",
    "for record in records:\n",
    "    print(record.annotations['source'])\n",
    "    records_cache.append(record)\n",
    "len(records_cache)"
   ]
  },
  {
   "cell_type": "markdown",
   "metadata": {},
   "source": [
    "Z jakiegoś powodu efetch nie zwraca żadnego wyniku dla genów."
   ]
  },
  {
   "cell_type": "code",
   "execution_count": null,
   "metadata": {},
   "outputs": [],
   "source": [
    "human = list(filter(lambda x: 'Homo sapiens' in x.annotations['source'] ,records_cache))[0]"
   ]
  },
  {
   "cell_type": "code",
   "execution_count": null,
   "metadata": {},
   "outputs": [],
   "source": [
    "human_seq = str(human.seq)\n",
    "human_seq"
   ]
  },
  {
   "cell_type": "code",
   "execution_count": null,
   "metadata": {},
   "outputs": [],
   "source": [
    "from Bio.Blast import NCBIWWW\n",
    "\n",
    "result_handle = NCBIWWW.qblast(\"tblastx\", \"nr\", human_seq)"
   ]
  }
 ],
 "metadata": {
  "interpreter": {
   "hash": "21011ec3f8359e725d0e30ec23938534a924568987a65f39ffe672e6d708092d"
  },
  "kernelspec": {
   "display_name": "Python 3.8.5 64-bit ('mldd': conda)",
   "language": "python",
   "name": "python3"
  },
  "language_info": {
   "codemirror_mode": {
    "name": "ipython",
    "version": 3
   },
   "file_extension": ".py",
   "mimetype": "text/x-python",
   "name": "python",
   "nbconvert_exporter": "python",
   "pygments_lexer": "ipython3",
   "version": "3.8.5"
  },
  "orig_nbformat": 4
 },
 "nbformat": 4,
 "nbformat_minor": 2
}
