{
 "cells": [
  {
   "cell_type": "code",
   "execution_count": 3,
   "metadata": {},
   "outputs": [
    {
     "name": "stdout",
     "output_type": "stream",
     "text": [
      "Tree(rooted=False, weight=1.0)\n",
      "    Clade(branch_length=0.286844)\n",
      "        Clade(branch_length=0.286844)\n",
      "            Clade(branch_length=0.279389)\n",
      "                Clade(branch_length=0.110911, name='gi|300796711|ref|NP_001178230.1|')\n",
      "                Clade(branch_length=0.110911)\n",
      "                    Clade(branch_length=0.0885197, name='gi|345791586|ref|XP_543824.3|')\n",
      "                    Clade(branch_length=0.0885197)\n",
      "                        Clade(branch_length=0.026552, name='gi|297261755|ref|XP_002798526.1|')\n",
      "                        Clade(branch_length=0.026552)\n",
      "                            Clade(branch_length=0.00481431, name='gi|74271845|ref|NP_653271.2|')\n",
      "                            Clade(branch_length=0.00481431, name='gi|114643390|ref|XP_520828.2|')\n",
      "            Clade(branch_length=0.279389, name='gi|513225677|ref|XP_003642833.2|')\n",
      "        Clade(branch_length=0.286844)\n",
      "            Clade(branch_length=0.160439)\n",
      "                Clade(branch_length=0.121077)\n",
      "                    Clade(branch_length=0.0671788)\n",
      "                        Clade(branch_length=0.0451442, name='gi|512880677|ref|XP_004919697.1|')\n",
      "                        Clade(branch_length=0.0451442, name='gi|512880681|ref|XP_004919698.1|')\n",
      "                    Clade(branch_length=0.0671788, name='gi|512826312|ref|XP_002943142.2|')\n",
      "                Clade(branch_length=0.121077, name='gi|163915015|ref|NP_001106498.1|')\n",
      "            Clade(branch_length=0.160439)\n",
      "                Clade(branch_length=0.0853187, name='gi|166795923|ref|NP_001107696.1|')\n",
      "                Clade(branch_length=0.0853187)\n",
      "                    Clade(branch_length=0.0364264, name='gi|512878304|ref|XP_004919356.1|')\n",
      "                    Clade(branch_length=0.0364264, name='gi|512880685|ref|XP_004919699.1|')\n",
      "                                   ____ gi|300796711|ref|NP_001178230.1|\n",
      "                        __________|\n",
      "                       |          |     __ gi|345791586|ref|XP_543824.3|\n",
      "                       |          |____|\n",
      "                       |               |  , gi|297261755|ref|XP_002798526.1|\n",
      "             __________|               |__|\n",
      "            |          |                  |, gi|74271845|ref|NP_653271.2|\n",
      "            |          |                  ||\n",
      "            |          |                   | gi|114643390|ref|XP_520828.2|\n",
      "            |          |\n",
      "            |          |__________ gi|513225677|ref|XP_003642833.2|\n",
      "____________|\n",
      "            |                         _ gi|512880677|ref|XP_004919697.1|\n",
      "            |                      __|\n",
      "            |                  ___|  |_ gi|512880681|ref|XP_004919698.1|\n",
      "            |                 |   |\n",
      "            |           ______|   |__ gi|512826312|ref|XP_002943142.2|\n",
      "            |          |      |\n",
      "            |__________|      |___ gi|163915015|ref|NP_001106498.1|\n",
      "                       |\n",
      "                       |       __ gi|166795923|ref|NP_001107696.1|\n",
      "                       |______|\n",
      "                              |  , gi|512878304|ref|XP_004919356.1|\n",
      "                              |__|\n",
      "                                 | gi|512880685|ref|XP_004919699.1|\n",
      "\n"
     ]
    }
   ],
   "source": [
    "from Bio import Phylo \n",
    "tree = Phylo.read(\"simple_phylogeny-I20211207-175753-0580-40589952-p1m.ph\", \"newick\") \n",
    "print(tree) \n",
    "Phylo.draw_ascii(tree) "
   ]
  },
  {
   "cell_type": "code",
   "execution_count": 6,
   "metadata": {},
   "outputs": [
    {
     "data": {
      "text/plain": [
       "0.05791831"
      ]
     },
     "execution_count": 6,
     "metadata": {},
     "output_type": "execute_result"
    }
   ],
   "source": [
    "tree.distance('gi|74271845|ref|NP_653271.2|', 'gi|297261755|ref|XP_002798526.1|')"
   ]
  },
  {
   "cell_type": "code",
   "execution_count": 11,
   "metadata": {},
   "outputs": [],
   "source": [
    "homo_sapiens = 'gi|74271845|ref|NP_653271.2|'\n",
    "other_organisms = list(filter(lambda x: x != homo_sapiens, map(lambda x: x.name, tree.get_terminals())))"
   ]
  },
  {
   "cell_type": "code",
   "execution_count": 13,
   "metadata": {},
   "outputs": [
    {
     "name": "stdout",
     "output_type": "stream",
     "text": [
      "distance from human to gi|300796711|ref|NP_001178230.1| -  0.34170801\n",
      "distance from human to gi|345791586|ref|XP_543824.3| -  0.20840571000000002\n",
      "distance from human to gi|297261755|ref|XP_002798526.1| -  0.05791831\n",
      "distance from human to gi|114643390|ref|XP_520828.2| -  0.00962862\n",
      "distance from human to gi|513225677|ref|XP_003642833.2| -  0.78957501\n",
      "distance from human to gi|512880677|ref|XP_004919697.1| -  1.47771301\n",
      "distance from human to gi|512880681|ref|XP_004919698.1| -  1.47771301\n",
      "distance from human to gi|512826312|ref|XP_002943142.2| -  1.4325688099999998\n",
      "distance from human to gi|163915015|ref|NP_001106498.1| -  1.36539001\n",
      "distance from human to gi|166795923|ref|NP_001107696.1| -  1.32963171\n",
      "distance from human to gi|512878304|ref|XP_004919356.1| -  1.36605811\n",
      "distance from human to gi|512880685|ref|XP_004919699.1| -  1.36605811\n"
     ]
    }
   ],
   "source": [
    "for organism in other_organisms:\n",
    "    print('distance from human to {} - '.format(organism), tree.distance(homo_sapiens, organism))"
   ]
  }
 ],
 "metadata": {
  "interpreter": {
   "hash": "21011ec3f8359e725d0e30ec23938534a924568987a65f39ffe672e6d708092d"
  },
  "kernelspec": {
   "display_name": "Python 3.8.5 64-bit ('mldd': conda)",
   "language": "python",
   "name": "python3"
  },
  "language_info": {
   "codemirror_mode": {
    "name": "ipython",
    "version": 3
   },
   "file_extension": ".py",
   "mimetype": "text/x-python",
   "name": "python",
   "nbconvert_exporter": "python",
   "pygments_lexer": "ipython3",
   "version": "3.8.5"
  },
  "orig_nbformat": 4
 },
 "nbformat": 4,
 "nbformat_minor": 2
}
